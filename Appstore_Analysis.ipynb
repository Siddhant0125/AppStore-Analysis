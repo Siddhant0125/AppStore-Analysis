{
  "cells": [
    {
      "cell_type": "markdown",
      "metadata": {
        "id": "2BVvaSRqMi07"
      },
      "source": [
        "PROJECT\n",
        "We only build apps that are free to download and install, and our main source of revenue consists of in-app ads. This means that the number of users of our apps determines our revenue for any given app — the more users who see and engage with the ads, the better.\n",
        "\n",
        "GOAL\n",
        "Our goal for this project is to analyze data to help our developers understand what type of apps are likely to attract more users."
      ]
    },
    {
      "cell_type": "code",
      "execution_count": null,
      "metadata": {
        "id": "-rbLOA9gMi0_"
      },
      "outputs": [],
      "source": [
        "opened_filea = open('AppleStore.csv')\n",
        "from csv import reader\n",
        "read_filea = reader(opened_filea)\n",
        "dataseta = list(read_filea)\n",
        "apple_header = dataseta[0]\n",
        "apple = dataseta[1:]\n",
        "\n",
        "opened_fileg = open('googleplaystore.csv')\n",
        "from csv import reader\n",
        "read_fileg = reader(opened_fileg)\n",
        "datasetg = list(read_fileg)\n",
        "android_header = datasetg[0]\n",
        "android = datasetg[1:]\n",
        "\n",
        "\n"
      ]
    },
    {
      "cell_type": "code",
      "execution_count": null,
      "metadata": {
        "id": "FrB8SrKqMi1B"
      },
      "outputs": [],
      "source": [
        "def explore_data(dataset, start, end, rows_and_columns=False):\n",
        "    dataset_slice = dataset[start:end]\n",
        "    for row in dataset_slice:\n",
        "        print(row)\n",
        "        print('\\n') # adds a new (empty) line after each row\n",
        "\n",
        "    if rows_and_columns:\n",
        "        print('Number of rows:', len(dataset))\n",
        "        print('Number of columns:', len(dataset[0]))"
      ]
    },
    {
      "cell_type": "code",
      "execution_count": null,
      "metadata": {
        "id": "z2-gys-_Mi1B",
        "outputId": "c2f3e0c6-8409-44a5-da2d-f6cb5fa852ab"
      },
      "outputs": [
        {
          "name": "stdout",
          "output_type": "stream",
          "text": [
            "['284882215', 'Facebook', '389879808', 'USD', '0.0', '2974676', '212', '3.5', '3.5', '95.0', '4+', 'Social Networking', '37', '1', '29', '1']\n",
            "\n",
            "\n",
            "['389801252', 'Instagram', '113954816', 'USD', '0.0', '2161558', '1289', '4.5', '4.0', '10.23', '12+', 'Photo & Video', '37', '0', '29', '1']\n",
            "\n",
            "\n",
            "['529479190', 'Clash of Clans', '116476928', 'USD', '0.0', '2130805', '579', '4.5', '4.5', '9.24.12', '9+', 'Games', '38', '5', '18', '1']\n",
            "\n",
            "\n",
            "Number of rows: 7197\n",
            "Number of columns: 16\n",
            "['Photo Editor & Candy Camera & Grid & ScrapBook', 'ART_AND_DESIGN', '4.1', '159', '19M', '10,000+', 'Free', '0', 'Everyone', 'Art & Design', 'January 7, 2018', '1.0.0', '4.0.3 and up']\n",
            "\n",
            "\n",
            "['Coloring book moana', 'ART_AND_DESIGN', '3.9', '967', '14M', '500,000+', 'Free', '0', 'Everyone', 'Art & Design;Pretend Play', 'January 15, 2018', '2.0.0', '4.0.3 and up']\n",
            "\n",
            "\n",
            "['U Launcher Lite – FREE Live Cool Themes, Hide Apps', 'ART_AND_DESIGN', '4.7', '87510', '8.7M', '5,000,000+', 'Free', '0', 'Everyone', 'Art & Design', 'August 1, 2018', '1.2.4', '4.0.3 and up']\n",
            "\n",
            "\n",
            "Number of rows: 10841\n",
            "Number of columns: 13\n"
          ]
        }
      ],
      "source": [
        "explore_data(apple,0,3,True)\n",
        "explore_data(android,0,3,True)"
      ]
    },
    {
      "cell_type": "markdown",
      "metadata": {
        "id": "cQdwukOrMi1D"
      },
      "source": [
        "Category is not present and hence column shift has happened in this row."
      ]
    },
    {
      "cell_type": "code",
      "execution_count": null,
      "metadata": {
        "id": "i3J9yMfDMi1D",
        "outputId": "0c33eca6-983e-4332-d520-3de001a0e044"
      },
      "outputs": [
        {
          "name": "stdout",
          "output_type": "stream",
          "text": [
            "['Life Made WI-Fi Touchscreen Photo Frame', '1.9', '19', '3.0M', '1,000+', 'Free', '0', 'Everyone', '', 'February 11, 2018', '1.0.19', '4.0 and up']\n"
          ]
        },
        {
          "data": {
            "text/plain": [
              "10840"
            ]
          },
          "execution_count": 5,
          "metadata": {},
          "output_type": "execute_result"
        }
      ],
      "source": [
        "print(android[10472])\n",
        "del(android[10472])\n",
        "len(android)"
      ]
    },
    {
      "cell_type": "code",
      "execution_count": null,
      "metadata": {
        "id": "SL1ffM0dMi1E"
      },
      "outputs": [],
      "source": [
        "def find_dup(dataset):\n",
        "    duplicate_apps=[]\n",
        "    unique_apps=[]\n",
        "    for app in dataset:\n",
        "        name=app[0]\n",
        "        if name in unique_apps:\n",
        "            duplicate_apps.append(name)\n",
        "        else:\n",
        "            unique_apps.append(name)\n",
        "\n",
        "    print(len(duplicate_apps))\n",
        "    print('\\n')\n",
        "    print(duplicate_apps[:15])"
      ]
    },
    {
      "cell_type": "code",
      "execution_count": null,
      "metadata": {
        "id": "OykcDcOEMi1E",
        "outputId": "e4056c03-d7e2-4bf9-83e6-a7fdc7aa0033"
      },
      "outputs": [
        {
          "name": "stdout",
          "output_type": "stream",
          "text": [
            "1181\n",
            "\n",
            "\n",
            "['Quick PDF Scanner + OCR FREE', 'Box', 'Google My Business', 'ZOOM Cloud Meetings', 'join.me - Simple Meetings', 'Box', 'Zenefits', 'Google Ads', 'Google My Business', 'Slack', 'FreshBooks Classic', 'Insightly CRM', 'QuickBooks Accounting: Invoicing & Expenses', 'HipChat - Chat Built for Teams', 'Xero Accounting Software']\n",
            "0\n",
            "\n",
            "\n",
            "[]\n"
          ]
        }
      ],
      "source": [
        "find_dup(android)\n",
        "find_dup(apple)"
      ]
    },
    {
      "cell_type": "code",
      "execution_count": null,
      "metadata": {
        "id": "vuSt2it5Mi1E",
        "outputId": "f38bce98-8003-42f8-e329-5ea99837ff72"
      },
      "outputs": [
        {
          "name": "stdout",
          "output_type": "stream",
          "text": [
            "['Quick PDF Scanner + OCR FREE', 'BUSINESS', '4.2', '80805', 'Varies with device', '5,000,000+', 'Free', '0', 'Everyone', 'Business', 'February 26, 2018', 'Varies with device', '4.0.3 and up']\n",
            "['Quick PDF Scanner + OCR FREE', 'BUSINESS', '4.2', '80805', 'Varies with device', '5,000,000+', 'Free', '0', 'Everyone', 'Business', 'February 26, 2018', 'Varies with device', '4.0.3 and up']\n",
            "['Quick PDF Scanner + OCR FREE', 'BUSINESS', '4.2', '80804', 'Varies with device', '5,000,000+', 'Free', '0', 'Everyone', 'Business', 'February 26, 2018', 'Varies with device', '4.0.3 and up']\n",
            "80805\n"
          ]
        }
      ],
      "source": [
        "out=0\n",
        "for app in android:\n",
        "    name=app[0]\n",
        "    if name=='Quick PDF Scanner + OCR FREE':\n",
        "        reviews=int(app[3])\n",
        "        out=max(out,reviews)\n",
        "        print(app)\n",
        "print(out)"
      ]
    },
    {
      "cell_type": "markdown",
      "metadata": {
        "id": "VsA57jqtMi1F"
      },
      "source": [
        "Critera for removing is set by checking the app with highest reviews"
      ]
    },
    {
      "cell_type": "code",
      "execution_count": null,
      "metadata": {
        "id": "edLmUrcgMi1F"
      },
      "outputs": [],
      "source": [
        "def find_remove_dup(dataset):\n",
        "    reviews_max={}\n",
        "    for app in dataset:\n",
        "        name=app[0]\n",
        "        reviews=float(app[3])\n",
        "        if name in reviews_max and reviews_max[name]<reviews:\n",
        "            reviews_max[name]=reviews\n",
        "        if name not in reviews_max:\n",
        "            reviews_max[name]=reviews\n",
        "\n",
        "\n",
        "\n",
        "    android_clean=[]\n",
        "    already_added=[]\n",
        "    for app in dataset:\n",
        "        name=app[0]\n",
        "        reviews=float(app[3])\n",
        "        if (reviews==reviews_max[name]) and (name not in already_added):\n",
        "            android_clean.append(app)\n",
        "            already_added.append(name)\n",
        "\n",
        "    return(android_clean)\n",
        "\n",
        ""
      ]
    },
    {
      "cell_type": "code",
      "execution_count": null,
      "metadata": {
        "id": "JybMgkSeMi1G",
        "outputId": "4783dac4-6644-402c-bbb6-acecfb6cde1e"
      },
      "outputs": [
        {
          "data": {
            "text/plain": [
              "9659"
            ]
          },
          "execution_count": 10,
          "metadata": {},
          "output_type": "execute_result"
        }
      ],
      "source": [
        "find_remove_dup(android)\n",
        "android_clean=find_remove_dup(android)\n",
        "len(android_clean)"
      ]
    },
    {
      "cell_type": "code",
      "execution_count": null,
      "metadata": {
        "id": "_gFnEffeMi1G"
      },
      "outputs": [],
      "source": [
        "def lang_filter(s):\n",
        "    c=0\n",
        "    for i in s:\n",
        "        if ord(i)>127:\n",
        "            c=c+1\n",
        "    if c>3:\n",
        "        return False\n",
        "    else:\n",
        "        return True\n",
        ""
      ]
    },
    {
      "cell_type": "code",
      "execution_count": null,
      "metadata": {
        "id": "jzEj-h2vMi1G",
        "outputId": "9a74b000-ba4f-4e5b-8a36-c7a6b77d0c4d"
      },
      "outputs": [
        {
          "data": {
            "text/plain": [
              "False"
            ]
          },
          "execution_count": 12,
          "metadata": {},
          "output_type": "execute_result"
        }
      ],
      "source": [
        "lang_filter('爱奇艺PPS -《欢乐颂2》电视剧热播')"
      ]
    },
    {
      "cell_type": "code",
      "execution_count": null,
      "metadata": {
        "id": "pmWPUGMmMi1H",
        "outputId": "d24c2d11-f62f-4734-fc1a-b24b2b5eab2f"
      },
      "outputs": [
        {
          "name": "stdout",
          "output_type": "stream",
          "text": [
            "['Photo Editor & Candy Camera & Grid & ScrapBook', 'ART_AND_DESIGN', '4.1', '159', '19M', '10,000+', 'Free', '0', 'Everyone', 'Art & Design', 'January 7, 2018', '1.0.0', '4.0.3 and up']\n",
            "\n",
            "\n",
            "['U Launcher Lite – FREE Live Cool Themes, Hide Apps', 'ART_AND_DESIGN', '4.7', '87510', '8.7M', '5,000,000+', 'Free', '0', 'Everyone', 'Art & Design', 'August 1, 2018', '1.2.4', '4.0.3 and up']\n",
            "\n",
            "\n",
            "['Sketch - Draw & Paint', 'ART_AND_DESIGN', '4.5', '215644', '25M', '50,000,000+', 'Free', '0', 'Teen', 'Art & Design', 'June 8, 2018', 'Varies with device', '4.2 and up']\n",
            "\n",
            "\n",
            "Number of rows: 9614\n",
            "Number of columns: 13\n",
            "\n",
            "\n",
            "['284882215', 'Facebook', '389879808', 'USD', '0.0', '2974676', '212', '3.5', '3.5', '95.0', '4+', 'Social Networking', '37', '1', '29', '1']\n",
            "\n",
            "\n",
            "['389801252', 'Instagram', '113954816', 'USD', '0.0', '2161558', '1289', '4.5', '4.0', '10.23', '12+', 'Photo & Video', '37', '0', '29', '1']\n",
            "\n",
            "\n",
            "['529479190', 'Clash of Clans', '116476928', 'USD', '0.0', '2130805', '579', '4.5', '4.5', '9.24.12', '9+', 'Games', '38', '5', '18', '1']\n",
            "\n",
            "\n",
            "Number of rows: 6183\n",
            "Number of columns: 16\n"
          ]
        }
      ],
      "source": [
        "android_english = []\n",
        "ios_english = []\n",
        "\n",
        "for app in android_clean:\n",
        "    name = app[0]\n",
        "    if lang_filter(name):\n",
        "        android_english.append(app)\n",
        "\n",
        "for app in apple:\n",
        "    name = app[1]\n",
        "    if lang_filter(name):\n",
        "        ios_english.append(app)\n",
        "\n",
        "explore_data(android_english, 0, 3, True)\n",
        "print('\\n')\n",
        "explore_data(ios_english, 0, 3, True)"
      ]
    },
    {
      "cell_type": "code",
      "execution_count": null,
      "metadata": {
        "id": "LnM3cWubMi1H",
        "outputId": "49248a0d-2497-4fec-e2eb-6730298d5ec6"
      },
      "outputs": [
        {
          "name": "stdout",
          "output_type": "stream",
          "text": [
            "['App', 'Category', 'Rating', 'Reviews', 'Size', 'Installs', 'Type', 'Price', 'Content Rating', 'Genres', 'Last Updated', 'Current Ver', 'Android Ver']\n",
            "['id', 'track_name', 'size_bytes', 'currency', 'price', 'rating_count_tot', 'rating_count_ver', 'user_rating', 'user_rating_ver', 'ver', 'cont_rating', 'prime_genre', 'sup_devices.num', 'ipadSc_urls.num', 'lang.num', 'vpp_lic']\n"
          ]
        }
      ],
      "source": [
        "print(android_header)\n",
        "print(apple_header)"
      ]
    },
    {
      "cell_type": "code",
      "execution_count": null,
      "metadata": {
        "id": "dt-xDGdQMi1H"
      },
      "outputs": [],
      "source": [
        "android_paid=[]\n",
        "for app in android_english:\n",
        "    price = app[7]\n",
        "    if price=='0':\n",
        "        android_paid.append(app)\n",
        "\n",
        "apple_paid=[]\n",
        "for app in ios_english:\n",
        "    price = app[4]\n",
        "    if price=='0.0':\n",
        "        apple_paid.append(app)\n",
        ""
      ]
    },
    {
      "cell_type": "code",
      "execution_count": null,
      "metadata": {
        "id": "FJXWIWasMi1I",
        "outputId": "fd49cc04-b0ce-4559-da08-09e12aa7b43d"
      },
      "outputs": [
        {
          "name": "stdout",
          "output_type": "stream",
          "text": [
            "8864\n",
            "3222\n"
          ]
        }
      ],
      "source": [
        "print(len(android_paid))\n",
        "print(len(apple_paid))"
      ]
    },
    {
      "cell_type": "code",
      "execution_count": null,
      "metadata": {
        "id": "W48tXprEMi1I"
      },
      "outputs": [],
      "source": [
        "def dict_table(dataset,index):\n",
        "    and_high_genre={}\n",
        "    total = 0\n",
        "    for app in dataset:\n",
        "        total+=1\n",
        "        genre=app[index]\n",
        "        if genre in and_high_genre:\n",
        "            and_high_genre[genre]=and_high_genre.get(genre)+1\n",
        "        if genre not in and_high_genre:\n",
        "            and_high_genre[genre]=1\n",
        "    return and_high_genre,total"
      ]
    },
    {
      "cell_type": "code",
      "execution_count": null,
      "metadata": {
        "id": "NZFKfoZrMi1I"
      },
      "outputs": [],
      "source": [
        "def freq_table(dataset,index):\n",
        "    high_genre,total=dict_table(dataset,index)\n",
        "    table_percentages = {}\n",
        "    for key in high_genre:\n",
        "        percentage = (high_genre[key] / total) * 100\n",
        "        table_percentages[key] = percentage\n",
        "\n",
        "    table_percentages_dt=sorted(table_percentages.items(), key=lambda x: x[1],reverse=True)\n",
        "    return table_percentages_dt\n",
        ""
      ]
    },
    {
      "cell_type": "code",
      "execution_count": null,
      "metadata": {
        "id": "IoRMniaCMi1I",
        "outputId": "a7a0ae07-cad6-4093-f254-cbe82718aa18"
      },
      "outputs": [
        {
          "data": {
            "text/plain": [
              "[('Games', 58.16263190564867),\n",
              " ('Entertainment', 7.883302296710118),\n",
              " ('Photo & Video', 4.9658597144630665),\n",
              " ('Education', 3.662321539416512),\n",
              " ('Social Networking', 3.2898820608317814),\n",
              " ('Shopping', 2.60707635009311),\n",
              " ('Utilities', 2.5139664804469275),\n",
              " ('Sports', 2.1415270018621975),\n",
              " ('Music', 2.0484171322160147),\n",
              " ('Health & Fitness', 2.0173805090006205),\n",
              " ('Productivity', 1.7380509000620732),\n",
              " ('Lifestyle', 1.5828677839851024),\n",
              " ('News', 1.3345747982619491),\n",
              " ('Travel', 1.2414649286157666),\n",
              " ('Finance', 1.1173184357541899),\n",
              " ('Weather', 0.8690254500310366),\n",
              " ('Food & Drink', 0.8069522036002483),\n",
              " ('Reference', 0.5586592178770949),\n",
              " ('Business', 0.5276225946617008),\n",
              " ('Book', 0.4345127250155183),\n",
              " ('Navigation', 0.186219739292365),\n",
              " ('Medical', 0.186219739292365),\n",
              " ('Catalogs', 0.12414649286157665)]"
            ]
          },
          "execution_count": 59,
          "metadata": {},
          "output_type": "execute_result"
        }
      ],
      "source": [
        "freq_table(apple_paid,-5)"
      ]
    },
    {
      "cell_type": "code",
      "execution_count": null,
      "metadata": {
        "id": "P002xNYWMi1I",
        "outputId": "a9afdc2c-185f-481e-fb34-a1bbea85905e"
      },
      "outputs": [
        {
          "data": {
            "text/plain": [
              "[('FAMILY', 18.907942238267147),\n",
              " ('GAME', 9.724729241877256),\n",
              " ('TOOLS', 8.461191335740072),\n",
              " ('BUSINESS', 4.591606498194946),\n",
              " ('LIFESTYLE', 3.9034296028880866),\n",
              " ('PRODUCTIVITY', 3.892148014440433),\n",
              " ('FINANCE', 3.7003610108303246),\n",
              " ('MEDICAL', 3.531137184115524),\n",
              " ('SPORTS', 3.395758122743682),\n",
              " ('PERSONALIZATION', 3.3167870036101084),\n",
              " ('COMMUNICATION', 3.2378158844765346),\n",
              " ('HEALTH_AND_FITNESS', 3.0798736462093865),\n",
              " ('PHOTOGRAPHY', 2.944494584837545),\n",
              " ('NEWS_AND_MAGAZINES', 2.7978339350180503),\n",
              " ('SOCIAL', 2.6624548736462095),\n",
              " ('TRAVEL_AND_LOCAL', 2.33528880866426),\n",
              " ('SHOPPING', 2.2450361010830324),\n",
              " ('BOOKS_AND_REFERENCE', 2.1435018050541514),\n",
              " ('DATING', 1.861462093862816),\n",
              " ('VIDEO_PLAYERS', 1.7937725631768955),\n",
              " ('MAPS_AND_NAVIGATION', 1.3989169675090252),\n",
              " ('FOOD_AND_DRINK', 1.2409747292418771),\n",
              " ('EDUCATION', 1.1620036101083033),\n",
              " ('ENTERTAINMENT', 0.9589350180505415),\n",
              " ('LIBRARIES_AND_DEMO', 0.9363718411552346),\n",
              " ('AUTO_AND_VEHICLES', 0.9250902527075812),\n",
              " ('HOUSE_AND_HOME', 0.8235559566787004),\n",
              " ('WEATHER', 0.8009927797833934),\n",
              " ('EVENTS', 0.7107400722021661),\n",
              " ('PARENTING', 0.6543321299638989),\n",
              " ('ART_AND_DESIGN', 0.6430505415162455),\n",
              " ('COMICS', 0.6204873646209386),\n",
              " ('BEAUTY', 0.5979241877256317)]"
            ]
          },
          "execution_count": 60,
          "metadata": {},
          "output_type": "execute_result"
        }
      ],
      "source": [
        "freq_table(android_paid,1)"
      ]
    },
    {
      "cell_type": "code",
      "execution_count": null,
      "metadata": {
        "id": "cCiyRcJ6Mi1I",
        "outputId": "2338666b-4833-43c6-deea-5d259485a97c"
      },
      "outputs": [
        {
          "data": {
            "text/plain": [
              "[('Tools', 8.449909747292418),\n",
              " ('Entertainment', 6.069494584837545),\n",
              " ('Education', 5.347472924187725),\n",
              " ('Business', 4.591606498194946),\n",
              " ('Lifestyle', 3.892148014440433),\n",
              " ('Productivity', 3.892148014440433),\n",
              " ('Finance', 3.7003610108303246),\n",
              " ('Medical', 3.531137184115524),\n",
              " ('Sports', 3.463447653429603),\n",
              " ('Personalization', 3.3167870036101084),\n",
              " ('Communication', 3.2378158844765346),\n",
              " ('Action', 3.1024368231046933),\n",
              " ('Health & Fitness', 3.0798736462093865),\n",
              " ('Photography', 2.944494584837545),\n",
              " ('News & Magazines', 2.7978339350180503),\n",
              " ('Social', 2.6624548736462095),\n",
              " ('Travel & Local', 2.3240072202166067),\n",
              " ('Shopping', 2.2450361010830324),\n",
              " ('Books & Reference', 2.1435018050541514),\n",
              " ('Simulation', 2.0419675090252705),\n",
              " ('Dating', 1.861462093862816),\n",
              " ('Arcade', 1.8501805054151623),\n",
              " ('Video Players & Editors', 1.7712093862815883),\n",
              " ('Casual', 1.7599277978339352),\n",
              " ('Maps & Navigation', 1.3989169675090252),\n",
              " ('Food & Drink', 1.2409747292418771),\n",
              " ('Puzzle', 1.128158844765343),\n",
              " ('Racing', 0.9927797833935018),\n",
              " ('Libraries & Demo', 0.9363718411552346),\n",
              " ('Role Playing', 0.9363718411552346),\n",
              " ('Auto & Vehicles', 0.9250902527075812),\n",
              " ('Strategy', 0.9138086642599278),\n",
              " ('House & Home', 0.8235559566787004),\n",
              " ('Weather', 0.8009927797833934),\n",
              " ('Events', 0.7107400722021661),\n",
              " ('Adventure', 0.6768953068592057),\n",
              " ('Comics', 0.6092057761732852),\n",
              " ('Art & Design', 0.5979241877256317),\n",
              " ('Beauty', 0.5979241877256317),\n",
              " ('Parenting', 0.4963898916967509),\n",
              " ('Card', 0.45126353790613716),\n",
              " ('Casino', 0.42870036101083037),\n",
              " ('Trivia', 0.41741877256317694),\n",
              " ('Educational;Education', 0.39485559566787),\n",
              " ('Board', 0.3835740072202166),\n",
              " ('Educational', 0.3722924187725632),\n",
              " ('Education;Education', 0.33844765342960287),\n",
              " ('Word', 0.2594765342960289),\n",
              " ('Casual;Pretend Play', 0.236913357400722),\n",
              " ('Music', 0.2030685920577617),\n",
              " ('Entertainment;Music & Video', 0.16922382671480143),\n",
              " ('Puzzle;Brain Games', 0.16922382671480143),\n",
              " ('Racing;Action & Adventure', 0.16922382671480143),\n",
              " ('Casual;Brain Games', 0.13537906137184114),\n",
              " ('Casual;Action & Adventure', 0.13537906137184114),\n",
              " ('Arcade;Action & Adventure', 0.12409747292418773),\n",
              " ('Action;Action & Adventure', 0.10153429602888085),\n",
              " ('Educational;Pretend Play', 0.09025270758122744),\n",
              " ('Entertainment;Brain Games', 0.078971119133574),\n",
              " ('Simulation;Action & Adventure', 0.078971119133574),\n",
              " ('Board;Brain Games', 0.078971119133574),\n",
              " ('Parenting;Education', 0.078971119133574),\n",
              " ('Art & Design;Creativity', 0.06768953068592057),\n",
              " ('Educational;Brain Games', 0.06768953068592057),\n",
              " ('Casual;Creativity', 0.06768953068592057),\n",
              " ('Parenting;Music & Video', 0.06768953068592057),\n",
              " ('Education;Pretend Play', 0.056407942238267145),\n",
              " ('Education;Creativity', 0.04512635379061372),\n",
              " ('Role Playing;Pretend Play', 0.04512635379061372),\n",
              " ('Education;Brain Games', 0.033844765342960284),\n",
              " ('Entertainment;Creativity', 0.033844765342960284),\n",
              " ('Educational;Creativity', 0.033844765342960284),\n",
              " ('Adventure;Action & Adventure', 0.033844765342960284),\n",
              " ('Role Playing;Action & Adventure', 0.033844765342960284),\n",
              " ('Educational;Action & Adventure', 0.033844765342960284),\n",
              " ('Entertainment;Action & Adventure', 0.033844765342960284),\n",
              " ('Puzzle;Action & Adventure', 0.033844765342960284),\n",
              " ('Education;Action & Adventure', 0.033844765342960284),\n",
              " ('Education;Music & Video', 0.033844765342960284),\n",
              " ('Casual;Education', 0.02256317689530686),\n",
              " ('Music;Music & Video', 0.02256317689530686),\n",
              " ('Simulation;Pretend Play', 0.02256317689530686),\n",
              " ('Puzzle;Creativity', 0.02256317689530686),\n",
              " ('Sports;Action & Adventure', 0.02256317689530686),\n",
              " ('Board;Action & Adventure', 0.02256317689530686),\n",
              " ('Entertainment;Pretend Play', 0.02256317689530686),\n",
              " ('Video Players & Editors;Music & Video', 0.02256317689530686),\n",
              " ('Comics;Creativity', 0.01128158844765343),\n",
              " ('Lifestyle;Pretend Play', 0.01128158844765343),\n",
              " ('Art & Design;Pretend Play', 0.01128158844765343),\n",
              " ('Entertainment;Education', 0.01128158844765343),\n",
              " ('Arcade;Pretend Play', 0.01128158844765343),\n",
              " ('Art & Design;Action & Adventure', 0.01128158844765343),\n",
              " ('Strategy;Action & Adventure', 0.01128158844765343),\n",
              " ('Music & Audio;Music & Video', 0.01128158844765343),\n",
              " ('Health & Fitness;Education', 0.01128158844765343),\n",
              " ('Casual;Music & Video', 0.01128158844765343),\n",
              " ('Travel & Local;Action & Adventure', 0.01128158844765343),\n",
              " ('Tools;Education', 0.01128158844765343),\n",
              " ('Parenting;Brain Games', 0.01128158844765343),\n",
              " ('Video Players & Editors;Creativity', 0.01128158844765343),\n",
              " ('Health & Fitness;Action & Adventure', 0.01128158844765343),\n",
              " ('Trivia;Education', 0.01128158844765343),\n",
              " ('Lifestyle;Education', 0.01128158844765343),\n",
              " ('Card;Action & Adventure', 0.01128158844765343),\n",
              " ('Books & Reference;Education', 0.01128158844765343),\n",
              " ('Simulation;Education', 0.01128158844765343),\n",
              " ('Puzzle;Education', 0.01128158844765343),\n",
              " ('Adventure;Education', 0.01128158844765343),\n",
              " ('Role Playing;Brain Games', 0.01128158844765343),\n",
              " ('Strategy;Education', 0.01128158844765343),\n",
              " ('Racing;Pretend Play', 0.01128158844765343),\n",
              " ('Communication;Creativity', 0.01128158844765343),\n",
              " ('Strategy;Creativity', 0.01128158844765343)]"
            ]
          },
          "execution_count": 61,
          "metadata": {},
          "output_type": "execute_result"
        }
      ],
      "source": [
        "freq_table(android_paid,-4)"
      ]
    },
    {
      "cell_type": "code",
      "execution_count": null,
      "metadata": {
        "id": "aY9-XJjiMi1J"
      },
      "outputs": [],
      "source": [
        "def freq_table_apple(dataset,index,indexr):\n",
        "    and_high_genre,total=dict_table(dataset,index)\n",
        "    high=0\n",
        "    for key in and_high_genre:\n",
        "        total=0\n",
        "        for app in dataset:\n",
        "            genre=app[index]\n",
        "            rating=float(app[indexr])\n",
        "            if genre==key:\n",
        "                total=total+rating\n",
        "        print(key,(total/and_high_genre[key]))\n",
        "        if (total/and_high_genre[key])>high:\n",
        "            high=total/and_high_genre[key]\n",
        "            val=key\n",
        "    print('highest ->',val,high)\n",
        "\n",
        "\n",
        "\n",
        ""
      ]
    },
    {
      "cell_type": "code",
      "execution_count": null,
      "metadata": {
        "id": "56eg4YvvMi1J",
        "outputId": "dee837f4-771b-41f4-ce13-b640e6a6d9b0"
      },
      "outputs": [
        {
          "name": "stdout",
          "output_type": "stream",
          "text": [
            "Social Networking 71548.34905660378\n",
            "Photo & Video 28441.54375\n",
            "Games 22788.6696905016\n",
            "Music 57326.530303030304\n",
            "Reference 74942.11111111111\n",
            "Health & Fitness 23298.015384615384\n",
            "Weather 52279.892857142855\n",
            "Utilities 18684.456790123455\n",
            "Travel 28243.8\n",
            "Shopping 26919.690476190477\n",
            "News 21248.023255813954\n",
            "Navigation 86090.33333333333\n",
            "Lifestyle 16485.764705882353\n",
            "Entertainment 14029.830708661417\n",
            "Food & Drink 33333.92307692308\n",
            "Sports 23008.898550724636\n",
            "Book 39758.5\n",
            "Finance 31467.944444444445\n",
            "Education 7003.983050847458\n",
            "Productivity 21028.410714285714\n",
            "Business 7491.117647058823\n",
            "Catalogs 4004.0\n",
            "Medical 612.0\n",
            "highest -> Navigation 86090.33333333333\n"
          ]
        }
      ],
      "source": [
        "freq_table_pop(apple_paid,11,5)"
      ]
    },
    {
      "cell_type": "code",
      "execution_count": null,
      "metadata": {
        "id": "vywW9EcSMi1J",
        "outputId": "46ac5a12-f311-4f40-b168-9a332c655ec5"
      },
      "outputs": [
        {
          "name": "stdout",
          "output_type": "stream",
          "text": [
            "Waze - GPS Navigation, Maps & Real-time Traffic : 345046\n",
            "Google Maps - Navigation & Transit : 154911\n",
            "Geocaching® : 12811\n",
            "CoPilot GPS – Car Navigation & Offline Maps : 3582\n",
            "ImmobilienScout24: Real Estate Search in Germany : 187\n",
            "Railway Route Search : 5\n"
          ]
        }
      ],
      "source": [
        "for app in apple_paid:\n",
        "    if app[-5] == 'Navigation':\n",
        "        print(app[1], ':', app[5])"
      ]
    },
    {
      "cell_type": "code",
      "execution_count": null,
      "metadata": {
        "id": "jZA7ViURMi1J"
      },
      "outputs": [],
      "source": [
        "def freq_table_android(dataset,index,indexr):\n",
        "    and_high_genre,total=dict_table(dataset,index)\n",
        "    high=0\n",
        "    for key in and_high_genre:\n",
        "        total=0\n",
        "        for app in dataset:\n",
        "            genre=app[index]\n",
        "            n_installs=app[indexr]\n",
        "            n_installs = n_installs.replace(',', '')\n",
        "            n_installs = n_installs.replace('+', '')\n",
        "            rating=float(n_installs)\n",
        "            if genre==key:\n",
        "                total=total+rating\n",
        "        print(key,(total/and_high_genre[key]))\n",
        "        if (total/and_high_genre[key])>high:\n",
        "            high=total/and_high_genre[key]\n",
        "            val=key\n",
        "    print('highest ->',val,high)\n",
        ""
      ]
    },
    {
      "cell_type": "code",
      "execution_count": null,
      "metadata": {
        "id": "_seYAZfzMi1J",
        "outputId": "b1209620-16ff-4b85-8a98-df486a3cbdb7"
      },
      "outputs": [
        {
          "name": "stdout",
          "output_type": "stream",
          "text": [
            "ART_AND_DESIGN 1986335.0877192982\n",
            "AUTO_AND_VEHICLES 647317.8170731707\n",
            "BEAUTY 513151.88679245283\n",
            "BOOKS_AND_REFERENCE 8767811.894736841\n",
            "BUSINESS 1712290.1474201474\n",
            "COMICS 817657.2727272727\n",
            "COMMUNICATION 38456119.167247385\n",
            "DATING 854028.8303030303\n",
            "EDUCATION 1833495.145631068\n",
            "ENTERTAINMENT 11640705.88235294\n",
            "EVENTS 253542.22222222222\n",
            "FINANCE 1387692.475609756\n",
            "FOOD_AND_DRINK 1924897.7363636363\n",
            "HEALTH_AND_FITNESS 4188821.9853479853\n",
            "HOUSE_AND_HOME 1331540.5616438356\n",
            "LIBRARIES_AND_DEMO 638503.734939759\n",
            "LIFESTYLE 1437816.2687861272\n",
            "GAME 15588015.603248259\n",
            "FAMILY 3695641.8198090694\n",
            "MEDICAL 120550.61980830671\n",
            "SOCIAL 23253652.127118643\n",
            "SHOPPING 7036877.311557789\n",
            "PHOTOGRAPHY 17840110.40229885\n",
            "SPORTS 3638640.1428571427\n",
            "TRAVEL_AND_LOCAL 13984077.710144928\n",
            "TOOLS 10801391.298666667\n",
            "PERSONALIZATION 5201482.6122448975\n",
            "PRODUCTIVITY 16787331.344927534\n",
            "PARENTING 542603.6206896552\n",
            "WEATHER 5074486.197183099\n",
            "VIDEO_PLAYERS 24727872.452830188\n",
            "NEWS_AND_MAGAZINES 9549178.467741935\n",
            "MAPS_AND_NAVIGATION 4056941.7741935486\n",
            "highest -> COMMUNICATION 38456119.167247385\n"
          ]
        }
      ],
      "source": [
        "freq_table_android(android_paid,1,5)"
      ]
    },
    {
      "cell_type": "code",
      "execution_count": null,
      "metadata": {
        "id": "cs6p83D3Mi1K"
      },
      "outputs": [],
      "source": []
    }
  ],
  "metadata": {
    "kernelspec": {
      "display_name": "Python 3",
      "language": "python",
      "name": "python3"
    },
    "language_info": {
      "codemirror_mode": {
        "name": "ipython",
        "version": 3
      },
      "file_extension": ".py",
      "mimetype": "text/x-python",
      "name": "python",
      "nbconvert_exporter": "python",
      "pygments_lexer": "ipython3",
      "version": "3.8.2"
    },
    "colab": {
      "provenance": []
    }
  },
  "nbformat": 4,
  "nbformat_minor": 0
}